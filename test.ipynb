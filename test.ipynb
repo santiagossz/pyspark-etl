{
 "cells": [
  {
   "cell_type": "code",
   "execution_count": null,
   "metadata": {},
   "outputs": [],
   "source": [
    "import os\n",
    "os.environ['PYSPARK_SUBMIT_ARGS']='--driver-memory 8G --executor-memory 8G pyspark-shell'\n",
    "# spark-shell --driver-memory 10G --executor-memory 15G --executor-cores 8\n",
    "# --deploy-mode client --driver-memory 12G\n",
    "# --files https://ifood-data-architect-test-source.s3-sa-east-1.amazonaws.com/restaurant.csv.gz\n",
    "# spark=SparkSession.builder.config('spark.executor.memory','6g').config('spark.driver.memory','6g').getOrCreate()\n",
    "# --master yarn \n"
   ]
  },
  {
   "cell_type": "code",
   "execution_count": 1,
   "metadata": {},
   "outputs": [
    {
     "name": "stderr",
     "output_type": "stream",
     "text": [
      "Using Spark's default log4j profile: org/apache/spark/log4j-defaults.properties\n",
      "Setting default log level to \"WARN\".\n",
      "To adjust logging level use sc.setLogLevel(newLevel). For SparkR, use setLogLevel(newLevel).\n",
      "22/01/07 23:23:49 WARN NativeCodeLoader: Unable to load native-hadoop library for your platform... using builtin-java classes where applicable\n"
     ]
    },
    {
     "data": {
      "text/html": [
       "\n",
       "            <div>\n",
       "                <p><b>SparkSession - hive</b></p>\n",
       "                \n",
       "        <div>\n",
       "            <p><b>SparkContext</b></p>\n",
       "\n",
       "            <p><a href=\"http://192.168.0.11:4040\">Spark UI</a></p>\n",
       "\n",
       "            <dl>\n",
       "              <dt>Version</dt>\n",
       "                <dd><code>v3.2.0</code></dd>\n",
       "              <dt>Master</dt>\n",
       "                <dd><code>local[*]</code></dd>\n",
       "              <dt>AppName</dt>\n",
       "                <dd><code>ETL pipeline</code></dd>\n",
       "            </dl>\n",
       "        </div>\n",
       "        \n",
       "            </div>\n",
       "        "
      ],
      "text/plain": [
       "<pyspark.sql.session.SparkSession at 0x114f14310>"
      ]
     },
     "execution_count": 1,
     "metadata": {},
     "output_type": "execute_result"
    }
   ],
   "source": [
    "## start a spark session \n",
    "import findspark \n",
    "findspark.init() \n",
    "from pyspark import SparkFiles\n",
    "from pyspark.sql import SparkSession\n",
    "from os.path import abspath\n",
    "\n",
    "warehouse_location = abspath('spark-warehouse')\n",
    "\n",
    "spark=SparkSession.builder.appName(\"ETL pipeline\")\\\n",
    ".config(\"spark.sql.warehouse.dir\", warehouse_location)\\\n",
    ".config(\"spark.io.encryption.enabled\",True)\\\n",
    ".enableHiveSupport().getOrCreate()\n",
    "sc=spark.sparkContext\n",
    "spark\n"
   ]
  },
  {
   "cell_type": "code",
   "execution_count": null,
   "metadata": {},
   "outputs": [],
   "source": [
    "bucket='https://ifood-data-architect-test-source.s3-sa-east-1.amazonaws.com/'\n",
    "file=['consumer.csv.gz','restaurant.csv.gz','order.json.gz'][1]\n",
    "\n",
    "# sc.addFile(bucket+file)\n",
    "file_path=f'file://{SparkFiles.get(file)}'\n",
    "df=spark.read.option('header',True).option(\"inferSchema\",True).csv(file_path)\n",
    "# store_path=f'./data/{file.split(\".\")[0]}'\n",
    "# df.write.parquet(store_path)"
   ]
  },
  {
   "cell_type": "code",
   "execution_count": null,
   "metadata": {},
   "outputs": [],
   "source": [
    "df=spark.read.parquet('data/restaurant')\n",
    "# df.printSchema()"
   ]
  },
  {
   "cell_type": "code",
   "execution_count": null,
   "metadata": {},
   "outputs": [],
   "source": [
    "df.createOrReplaceTempView('temp_restaurant')"
   ]
  },
  {
   "cell_type": "code",
   "execution_count": null,
   "metadata": {},
   "outputs": [],
   "source": [
    "spark.sql(\"drop table if exists restaurant\");\n",
    "spark.sql(\"create table restaurant as select * from temp_restaurant\");\n"
   ]
  },
  {
   "cell_type": "code",
   "execution_count": null,
   "metadata": {},
   "outputs": [],
   "source": [
    "spark.sql('show databases').show()"
   ]
  },
  {
   "cell_type": "code",
   "execution_count": null,
   "metadata": {},
   "outputs": [],
   "source": [
    "# spark.sql('select * from restaurant limit 10').show()\n",
    "spark.sql('describe formatted restaurant').show()"
   ]
  },
  {
   "cell_type": "code",
   "execution_count": null,
   "metadata": {},
   "outputs": [],
   "source": [
    "spark.sql('select * from temp_restaurant').show()"
   ]
  },
  {
   "cell_type": "code",
   "execution_count": null,
   "metadata": {},
   "outputs": [],
   "source": []
  }
 ],
 "metadata": {
  "interpreter": {
   "hash": "36a201b1852815bc1a804c0e995b47ed433d6ad6aca928e66f78c6ea8fd8ac2e"
  },
  "kernelspec": {
   "display_name": "Python 3.8.2 64-bit ('env': venv)",
   "language": "python",
   "name": "python3"
  },
  "language_info": {
   "codemirror_mode": {
    "name": "ipython",
    "version": 3
   },
   "file_extension": ".py",
   "mimetype": "text/x-python",
   "name": "python",
   "nbconvert_exporter": "python",
   "pygments_lexer": "ipython3",
   "version": "3.8.2"
  },
  "orig_nbformat": 4
 },
 "nbformat": 4,
 "nbformat_minor": 2
}
