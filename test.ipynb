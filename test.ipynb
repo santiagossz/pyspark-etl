{
 "cells": [
  {
   "cell_type": "code",
   "execution_count": 1,
   "metadata": {},
   "outputs": [
    {
     "name": "stderr",
     "output_type": "stream",
     "text": [
      "Using Spark's default log4j profile: org/apache/spark/log4j-defaults.properties\n",
      "Setting default log level to \"WARN\".\n",
      "To adjust logging level use sc.setLogLevel(newLevel). For SparkR, use setLogLevel(newLevel).\n",
      "22/01/08 11:45:02 WARN NativeCodeLoader: Unable to load native-hadoop library for your platform... using builtin-java classes where applicable\n",
      "22/01/08 11:45:03 WARN SparkEnv: I/O encryption enabled without RPC encryption: keys will be visible on the wire.\n",
      "22/01/08 11:45:09 WARN Utils: Service 'SparkUI' could not bind on port 4040. Attempting port 4041.\n",
      "22/01/08 11:45:09 WARN Utils: Service 'SparkUI' could not bind on port 4041. Attempting port 4042.\n"
     ]
    }
   ],
   "source": [
    "import os\n",
    "from os.path import abspath\n",
    "import findspark \n",
    "findspark.init() \n",
    "from pyspark.sql import SparkSession\n",
    "\n",
    "os.environ['PYSPARK_SUBMIT_ARGS']='--driver-memory 8G --executor-memory 8G pyspark-shell'\n",
    "spark=SparkSession.builder.appName(\"ETL pipeline\")\\\n",
    ".config(\"spark.sql.warehouse.dir\", abspath('data/spark-warehouse'))\\\n",
    ".config('spark.driver.extraJavaOptions',f'-Dderby.system.home={abspath(\"data/catalog\")}')\\\n",
    ".config(\"spark.io.encryption.enabled\",True)\\\n",
    ".enableHiveSupport().getOrCreate()\n",
    "\n",
    "sc=spark.sparkContext"
   ]
  },
  {
   "cell_type": "code",
   "execution_count": 18,
   "metadata": {},
   "outputs": [],
   "source": [
    "# df=spark.read.parquet('data/order')\n",
    "# df.createOrReplaceTempView(\"order\")\n",
    "\n"
   ]
  },
  {
   "cell_type": "code",
   "execution_count": 31,
   "metadata": {},
   "outputs": [],
   "source": [
    "# spark.sql('select * from restaurant limit 20').show()\n",
    "# spark.sql('select * from restaurant limit 10').show()\n",
    "# spark.sql('describe formatted consumer').show() \n",
    "# spark.sql('select * from temp_restaurant').show()\n"
   ]
  },
  {
   "cell_type": "code",
   "execution_count": 38,
   "metadata": {},
   "outputs": [
    {
     "data": {
      "text/plain": [
       "[Table(name='consumer', database='default', description=None, tableType='MANAGED', isTemporary=False),\n",
       " Table(name='restaurant', database='default', description=None, tableType='MANAGED', isTemporary=False),\n",
       " Table(name='order', database=None, description=None, tableType='TEMPORARY', isTemporary=True)]"
      ]
     },
     "execution_count": 38,
     "metadata": {},
     "output_type": "execute_result"
    }
   ],
   "source": [
    "spark.catalog.listTables()"
   ]
  }
 ],
 "metadata": {
  "interpreter": {
   "hash": "770807fca9f82177f2182d3a969589be0e4df05a68ec7cea9b4d926677cead08"
  },
  "kernelspec": {
   "display_name": "Python 3.8.2 64-bit ('env': venv)",
   "language": "python",
   "name": "python3"
  },
  "language_info": {
   "codemirror_mode": {
    "name": "ipython",
    "version": 3
   },
   "file_extension": ".py",
   "mimetype": "text/x-python",
   "name": "python",
   "nbconvert_exporter": "python",
   "pygments_lexer": "ipython3",
   "version": "3.8.2"
  },
  "orig_nbformat": 4
 },
 "nbformat": 4,
 "nbformat_minor": 2
}
