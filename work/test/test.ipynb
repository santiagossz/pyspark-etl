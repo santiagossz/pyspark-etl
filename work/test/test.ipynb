{
 "cells": [
  {
   "cell_type": "code",
   "execution_count": null,
   "metadata": {},
   "outputs": [],
   "source": [
    "import findspark \n",
    "findspark.init() \n",
    "from pyspark.sql import SparkSession\n",
    "\n",
    "spark=SparkSession.builder.appName(\"Test\")\\\n",
    "        .config(\"spark.sql.warehouse.dir\", \"../../data/spark-warehouse\")\\\n",
    "        .config('spark.driver.extraJavaOptions',f'-Dderby.system.home=../../data/catalog')\\\n",
    "        .config(\"spark.io.encryption.enabled\",True)\\\n",
    "        .config('spark.acls.enable',True)\\\n",
    "        .enableHiveSupport().getOrCreate()\n",
    "spark\n",
    "\n",
    "## restart kernel if testing needed for new  changes of  spark-warehouse "
   ]
  },
  {
   "cell_type": "markdown",
   "metadata": {},
   "source": [
    "Tests to check if data & metadata stored correctly in storage"
   ]
  },
  {
   "cell_type": "code",
   "execution_count": 1,
   "metadata": {},
   "outputs": [],
   "source": [
    "## list of all tables stored in spark-warehouse \n",
    "spark.catalog.listTables()"
   ]
  },
  {
   "cell_type": "code",
   "execution_count": null,
   "metadata": {},
   "outputs": [],
   "source": [
    "## restaurants data\n",
    "spark.sql('select * from restaurant limit 20').show()\n"
   ]
  },
  {
   "cell_type": "code",
   "execution_count": null,
   "metadata": {},
   "outputs": [],
   "source": [
    "## restaurants metadata\n",
    "spark.sql('describe formatted restaurant').show() "
   ]
  },
  {
   "cell_type": "code",
   "execution_count": null,
   "metadata": {},
   "outputs": [],
   "source": [
    "## restaurants data\n",
    "spark.sql('select * from restaurant limit 20').show()"
   ]
  },
  {
   "cell_type": "code",
   "execution_count": null,
   "metadata": {},
   "outputs": [],
   "source": [
    "## consumers metadata\n",
    "spark.sql('describe formatted consumer').show() "
   ]
  },
  {
   "cell_type": "code",
   "execution_count": null,
   "metadata": {},
   "outputs": [],
   "source": [
    "## consumers data\n",
    "spark.sql('select * from consumer limit 20').show()"
   ]
  },
  {
   "cell_type": "code",
   "execution_count": null,
   "metadata": {},
   "outputs": [],
   "source": [
    "## orders metadata\n",
    "spark.sql('describe formatted order').show() "
   ]
  },
  {
   "cell_type": "code",
   "execution_count": null,
   "metadata": {},
   "outputs": [],
   "source": [
    "## orders data\n",
    "\n",
    "spark.sql('select * from order limit 20').show()"
   ]
  }
 ],
 "metadata": {
  "interpreter": {
   "hash": "770807fca9f82177f2182d3a969589be0e4df05a68ec7cea9b4d926677cead08"
  },
  "kernelspec": {
   "display_name": "Python 3.8.2 64-bit ('env': venv)",
   "language": "python",
   "name": "python3"
  },
  "language_info": {
   "codemirror_mode": {
    "name": "ipython",
    "version": 3
   },
   "file_extension": ".py",
   "mimetype": "text/x-python",
   "name": "python",
   "nbconvert_exporter": "python",
   "pygments_lexer": "ipython3",
   "version": "3.8.2"
  },
  "orig_nbformat": 4
 },
 "nbformat": 4,
 "nbformat_minor": 2
}
